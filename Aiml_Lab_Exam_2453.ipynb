{
  "nbformat": 4,
  "nbformat_minor": 0,
  "metadata": {
    "colab": {
      "provenance": [],
      "include_colab_link": true
    },
    "kernelspec": {
      "name": "python3",
      "display_name": "Python 3"
    },
    "language_info": {
      "name": "python"
    }
  },
  "cells": [
    {
      "cell_type": "markdown",
      "metadata": {
        "id": "view-in-github",
        "colab_type": "text"
      },
      "source": [
        "<a href=\"https://colab.research.google.com/github/2303A52453-Akshitha/2303A52453_AIML/blob/main/Aiml_Lab_Exam_2453.ipynb\" target=\"_parent\"><img src=\"https://colab.research.google.com/assets/colab-badge.svg\" alt=\"Open In Colab\"/></a>"
      ]
    },
    {
      "cell_type": "markdown",
      "source": [
        "Load the Data and Preprocess"
      ],
      "metadata": {
        "id": "AigHpCuENvg8"
      }
    },
    {
      "cell_type": "markdown",
      "source": [
        "A.Akshitha\n",
        "\n",
        "2303A52453\n",
        "\n",
        "Batch - 42"
      ],
      "metadata": {
        "id": "CA1gxfJcVGYa"
      }
    },
    {
      "cell_type": "code",
      "execution_count": null,
      "metadata": {
        "colab": {
          "base_uri": "https://localhost:8080/"
        },
        "id": "RNxKmTNx-Ogn",
        "outputId": "04644d1d-35b2-47c9-9a51-8a37dbb66c7f"
      },
      "outputs": [
        {
          "output_type": "stream",
          "name": "stdout",
          "text": [
            "  checking_balance  months_loan_duration credit_history               purpose  \\\n",
            "0           < 0 DM                     6       critical  furniture/appliances   \n",
            "1       1 - 200 DM                    48           good  furniture/appliances   \n",
            "2          unknown                    12       critical             education   \n",
            "3           < 0 DM                    42           good  furniture/appliances   \n",
            "4           < 0 DM                    24           poor                   car   \n",
            "\n",
            "   amount savings_balance employment_duration  percent_of_income  \\\n",
            "0    1169         unknown           > 7 years                  4   \n",
            "1    5951        < 100 DM         1 - 4 years                  2   \n",
            "2    2096        < 100 DM         4 - 7 years                  2   \n",
            "3    7882        < 100 DM         4 - 7 years                  2   \n",
            "4    4870        < 100 DM         1 - 4 years                  3   \n",
            "\n",
            "   years_at_residence  age other_credit housing  existing_loans_count  \\\n",
            "0                   4   67         none     own                     2   \n",
            "1                   2   22         none     own                     1   \n",
            "2                   3   49         none     own                     1   \n",
            "3                   4   45         none   other                     1   \n",
            "4                   4   53         none   other                     2   \n",
            "\n",
            "         job  dependents phone default  \n",
            "0    skilled           1   yes      no  \n",
            "1    skilled           1    no     yes  \n",
            "2  unskilled           2    no      no  \n",
            "3    skilled           2    no      no  \n",
            "4    skilled           2    no     yes  \n"
          ]
        }
      ],
      "source": [
        "import pandas as pd\n",
        "from sklearn.model_selection import train_test_split\n",
        "from sklearn.preprocessing import StandardScaler\n",
        "\n",
        "# Load the dataset (replace with your own dataset path)\n",
        "data = pd.read_csv(\"/credit.csv\")\n",
        "\n",
        "# Checking the first few rows\n",
        "print(data.head())\n",
        "\n",
        "\n",
        "\n",
        "# Split the data into training and test sets\n",
        "X_train, X_test, y_train, y_test = train_test_split(X, y, test_size=0.3, random_state=42)\n",
        "\n",
        "# Standardize features (optional, but recommended for models like SVM and kNN)\n",
        "scaler = StandardScaler()\n",
        "X_train = scaler.fit_transform(X_train)\n",
        "X_test = scaler.transform(X_test)\n"
      ]
    },
    {
      "cell_type": "markdown",
      "source": [
        "Random Forest Classifier"
      ],
      "metadata": {
        "id": "BwsbPbNJN0hW"
      }
    },
    {
      "cell_type": "code",
      "source": [
        "from sklearn.ensemble import RandomForestClassifier\n",
        "from sklearn.metrics import accuracy_score, confusion_matrix, f1_score\n",
        "\n",
        "# Initialize the Random Forest model\n",
        "rf_model = RandomForestClassifier(n_estimators=100, oob_score=True, random_state=42)\n",
        "\n",
        "# Fit the model\n",
        "rf_model.fit(X_train, y_train)\n",
        "\n",
        "# Make predictions on the test set\n",
        "y_pred_rf = rf_model.predict(X_test)\n",
        "\n",
        "# Evaluate accuracy\n",
        "accuracy_rf = accuracy_score(y_test, y_pred_rf)\n",
        "print(f\"Random Forest Accuracy: {accuracy_rf:.4f}\")\n",
        "\n",
        "# Confusion Matrix and F1-Score\n",
        "conf_matrix_rf = confusion_matrix(y_test, y_pred_rf)\n",
        "f1_rf = f1_score(y_test, y_pred_rf, average='weighted')\n",
        "\n",
        "print(f\"Random Forest Confusion Matrix:\\n{conf_matrix_rf}\")\n",
        "print(f\"Random Forest F1 Score: {f1_rf:.4f}\")\n"
      ],
      "metadata": {
        "colab": {
          "base_uri": "https://localhost:8080/"
        },
        "id": "U5PUV100I2Mk",
        "outputId": "b128d7c7-2be9-4e3a-86de-599ff1726e50"
      },
      "execution_count": null,
      "outputs": [
        {
          "output_type": "stream",
          "name": "stdout",
          "text": [
            "Random Forest Accuracy: 0.7200\n",
            "Random Forest Confusion Matrix:\n",
            "[[174  35]\n",
            " [ 49  42]]\n",
            "Random Forest F1 Score: 0.7129\n"
          ]
        }
      ]
    },
    {
      "cell_type": "markdown",
      "source": [
        "Decision Tree Classifier"
      ],
      "metadata": {
        "id": "gYzyq7NhN2Rk"
      }
    },
    {
      "cell_type": "code",
      "source": [
        "from sklearn.tree import DecisionTreeClassifier\n",
        "\n",
        "# Initialize the Decision Tree model\n",
        "dt_model = DecisionTreeClassifier(random_state=42)\n",
        "\n",
        "# Fit the model\n",
        "dt_model.fit(X_train, y_train)\n",
        "\n",
        "# Make predictions on the test set\n",
        "y_pred_dt = dt_model.predict(X_test)\n",
        "\n",
        "# Evaluate accuracy\n",
        "accuracy_dt = accuracy_score(y_test, y_pred_dt)\n",
        "print(f\"Decision Tree Accuracy: {accuracy_dt:.4f}\")\n",
        "\n",
        "# Confusion Matrix and F1-Score\n",
        "conf_matrix_dt = confusion_matrix(y_test, y_pred_dt)\n",
        "f1_dt = f1_score(y_test, y_pred_dt, average='weighted')\n",
        "\n",
        "print(f\"Decision Tree Confusion Matrix:\\n{conf_matrix_dt}\")\n",
        "print(f\"Decision Tree F1 Score: {f1_dt:.4f}\")\n"
      ],
      "metadata": {
        "colab": {
          "base_uri": "https://localhost:8080/"
        },
        "id": "gNzr3-JyI58l",
        "outputId": "5b560471-d847-46d8-f5c1-1160fa50ddd5"
      },
      "execution_count": null,
      "outputs": [
        {
          "output_type": "stream",
          "name": "stdout",
          "text": [
            "Decision Tree Accuracy: 0.6233\n",
            "Decision Tree Confusion Matrix:\n",
            "[[156  53]\n",
            " [ 60  31]]\n",
            "Decision Tree F1 Score: 0.6189\n"
          ]
        }
      ]
    },
    {
      "cell_type": "markdown",
      "source": [
        "Feature Importance"
      ],
      "metadata": {
        "id": "a3AaUau2OGvJ"
      }
    },
    {
      "cell_type": "code",
      "source": [
        "import matplotlib.pyplot as plt\n",
        "\n",
        "# Get feature importances\n",
        "feature_importances = rf_model.feature_importances_\n",
        "\n",
        "# Create a DataFrame to show feature importances\n",
        "feature_df = pd.DataFrame({\n",
        "    'Feature': X.columns,\n",
        "    'Importance': feature_importances\n",
        "})\n",
        "\n",
        "# Sort the features by importance\n",
        "feature_df = feature_df.sort_values(by='Importance', ascending=False)\n",
        "\n",
        "# Plot the top 10 features\n",
        "plt.figure(figsize=(10, 6))\n",
        "plt.barh(feature_df['Feature'][:10], feature_df['Importance'][:10])\n",
        "plt.xlabel('Feature Importance')\n",
        "plt.title('Top 10 Features by Importance (Random Forest)')\n",
        "plt.show()\n",
        "\n",
        "# Display the feature importance DataFrame\n",
        "print(feature_df)\n"
      ],
      "metadata": {
        "colab": {
          "base_uri": "https://localhost:8080/",
          "height": 503
        },
        "id": "labQvCdmI_XF",
        "outputId": "61140503-849e-4f84-dd38-aa251e6a5904"
      },
      "execution_count": null,
      "outputs": [
        {
          "output_type": "display_data",
          "data": {
            "text/plain": [
              "<Figure size 1000x600 with 1 Axes>"
            ],
            "image/png": "[encoded data removed]"
          },
          "metadata": {}
        },
        {
          "output_type": "stream",
          "name": "stdout",
          "text": [
            "               Feature  Importance\n",
            "3               amount    0.445213\n",
            "0     checking_balance    0.139373\n",
            "5  employment_duration    0.118694\n",
            "1       credit_history    0.111812\n",
            "2              purpose    0.096460\n",
            "4      savings_balance    0.088448\n"
          ]
        }
      ]
    },
    {
      "cell_type": "markdown",
      "source": [
        " Out-of-Bag (OOB) Error"
      ],
      "metadata": {
        "id": "ACMbIM1-N7Cc"
      }
    },
    {
      "cell_type": "code",
      "source": [
        "# OOB score (error)\n",
        "oob_error = 1 - rf_model.oob_score_\n",
        "print(f\"Random Forest OOB Error: {oob_error:.4f}\")\n"
      ],
      "metadata": {
        "colab": {
          "base_uri": "https://localhost:8080/"
        },
        "id": "6x3B3TEXJFDP",
        "outputId": "98cac095-b3fb-405b-9e6f-5b9b512be7ae"
      },
      "execution_count": null,
      "outputs": [
        {
          "output_type": "stream",
          "name": "stdout",
          "text": [
            "Random Forest OOB Error: 0.2686\n"
          ]
        }
      ]
    },
    {
      "cell_type": "markdown",
      "source": [
        "compare Random Forest and Decision Tree"
      ],
      "metadata": {
        "id": "G5mW6LloN9dm"
      }
    },
    {
      "cell_type": "code",
      "source": [
        "# Compare Random Forest and Decision Tree accuracy\n",
        "print(f\"Random Forest Accuracy: {accuracy_rf:.4f}\")\n",
        "print(f\"Decision Tree Accuracy: {accuracy_dt:.4f}\")\n"
      ],
      "metadata": {
        "colab": {
          "base_uri": "https://localhost:8080/"
        },
        "id": "P0u5rVnWJPEe",
        "outputId": "9b8539bc-d49f-488a-9b01-25c89d56ebaf"
      },
      "execution_count": null,
      "outputs": [
        {
          "output_type": "stream",
          "name": "stdout",
          "text": [
            "Random Forest Accuracy: 0.7200\n",
            "Decision Tree Accuracy: 0.6233\n"
          ]
        }
      ]
    }
  ]
}